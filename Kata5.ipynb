{
 "cells": [
  {
   "cell_type": "markdown",
   "metadata": {},
   "source": [
    "# Ejercicio 1"
   ]
  },
  {
   "cell_type": "code",
   "execution_count": 2,
   "metadata": {},
   "outputs": [
    {
     "name": "stdout",
     "output_type": "stream",
     "text": [
      "La distancia en millas entre el planeta Tierra y el planeta Jupyter es de 390577533.93\n"
     ]
    }
   ],
   "source": [
    "distancia_tierra = 149597870\n",
    "distancia_jupiter = 778547200\n",
    "planeta_tierra = \"Tierra\"\n",
    "planeta_jupyter = \"Jupyter\"\n",
    "\n",
    "print(f\"La distancia en millas entre el planeta {planeta_tierra} y el planeta {planeta_jupyter} es de {(distancia_jupiter - distancia_tierra) * 0.621}\")"
   ]
  },
  {
   "cell_type": "markdown",
   "metadata": {},
   "source": [
    "# Ejercicio 2"
   ]
  },
  {
   "cell_type": "code",
   "execution_count": 6,
   "metadata": {},
   "outputs": [
    {
     "name": "stdout",
     "output_type": "stream",
     "text": [
      "La distancia en Millas es de 25.461\n"
     ]
    }
   ],
   "source": [
    "planeta_uno = int(input(\"Cual es la distancia que hay entre planet uno y el sol en KM?\"))\n",
    "planeta_dos = int(input(\"Cual es la distancia que hay entre planet dos y el sol en KM?\"))\n",
    "\n",
    "distancia = abs((planeta_dos - planeta_uno)*0.621)\n",
    "\n",
    "print(f\"La distancia en Millas es de {distancia}\")\n"
   ]
  }
 ],
 "metadata": {
  "interpreter": {
   "hash": "3bb03df91ec1981933db38e9cd509750fbcc8736096f2f96108c21544a6fd7c7"
  },
  "kernelspec": {
   "display_name": "Python 3.10.0 64-bit",
   "language": "python",
   "name": "python3"
  },
  "language_info": {
   "codemirror_mode": {
    "name": "ipython",
    "version": 3
   },
   "file_extension": ".py",
   "mimetype": "text/x-python",
   "name": "python",
   "nbconvert_exporter": "python",
   "pygments_lexer": "ipython3",
   "version": "3.10.0"
  },
  "orig_nbformat": 4
 },
 "nbformat": 4,
 "nbformat_minor": 2
}
